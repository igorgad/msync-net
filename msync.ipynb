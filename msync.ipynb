{
 "cells": [
  {
   "cell_type": "code",
   "execution_count": null,
   "metadata": {
    "collapsed": true
   },
   "outputs": [
    {
     "ename": "ModuleNotFoundError",
     "evalue": "No module named 'dataset_interface'",
     "traceback": [
      "\u001b[0;31m---------------------------------------------------------------------------\u001b[0m",
      "\u001b[0;31mModuleNotFoundError\u001b[0m                       Traceback (most recent call last)",
      "\u001b[0;32m<ipython-input-2-1433717a4174>\u001b[0m in \u001b[0;36m<module>\u001b[0;34m()\u001b[0m\n\u001b[1;32m      3\u001b[0m \u001b[0mos\u001b[0m\u001b[0;34m.\u001b[0m\u001b[0menviron\u001b[0m\u001b[0;34m[\u001b[0m\u001b[0;34m\"CUDA_VISIBLE_DEVICES\"\u001b[0m\u001b[0;34m]\u001b[0m\u001b[0;34m=\u001b[0m\u001b[0;34m\"0\"\u001b[0m\u001b[0;34m\u001b[0m\u001b[0m\n\u001b[1;32m      4\u001b[0m \u001b[0;34m\u001b[0m\u001b[0m\n\u001b[0;32m----> 5\u001b[0;31m \u001b[0;32mimport\u001b[0m \u001b[0mdataset_interface\u001b[0m \u001b[0;32mas\u001b[0m \u001b[0mdts\u001b[0m\u001b[0;34m\u001b[0m\u001b[0m\n\u001b[0m\u001b[1;32m      6\u001b[0m \u001b[0;32mimport\u001b[0m \u001b[0mmodels\u001b[0m\u001b[0;34m.\u001b[0m\u001b[0msimple_gfnn\u001b[0m \u001b[0;32mas\u001b[0m \u001b[0mgfnn_model\u001b[0m\u001b[0;34m\u001b[0m\u001b[0m\n\u001b[1;32m      7\u001b[0m \u001b[0;32mimport\u001b[0m \u001b[0mimportlib\u001b[0m\u001b[0;34m\u001b[0m\u001b[0m\n",
      "\u001b[0;31mModuleNotFoundError\u001b[0m: No module named 'dataset_interface'"
     ],
     "output_type": "error"
    }
   ],
   "source": [
    "\n",
    "import os\n",
    "os.environ[\"CUDA_VISIBLE_DEVICES\"]=\"0\"\n",
    "\n",
    "import dataset_interface as dts\n",
    "import models.simple_gfnn as gfnn_model\n",
    "import importlib\n",
    "importlib.reload(dts)\n",
    "importlib.reload(gfnn_model)\n",
    "\n",
    "\n",
    "data_params = {'dataset_file': './data/BACH10/msync-bach10.tfrecord',\n",
    "               'audio_root': './data/BACH10/Audio',\n",
    "               'sample_rate': 44100//4,\n",
    "               'frame_length': 2048,\n",
    "               'frame_step': 2048,\n",
    "               'batch_size': 1,\n",
    "               'repeat': 10,\n",
    "               'shuffle': True\n",
    "               }\n",
    "\n",
    "model_params = {'num_osc': 180,\n",
    "                'dt': 1/(44100//4),\n",
    "                'input_shape': (2048,),\n",
    "                'outdim_size': 128,\n",
    "                'lr': 0.01\n",
    "                }\n",
    "\n",
    "\n",
    "data = dts.pipeline(data_params)\n",
    "model = gfnn_model.simple_gfnn_cca_v0(model_params)\n",
    "\n",
    "model.fit(data, epochs=2, steps_per_epoch=10)"
   ]
  },
  {
   "cell_type": "code",
   "execution_count": null,
   "metadata": {},
   "outputs": [],
   "source": [
    "\n",
    "# Evaluate DTW\n",
    "from dtw import dtw\n",
    "from numpy.linalg import norm\n",
    "import matplotlib.pyplot as plt\n",
    "\n",
    "r = model.predict(data, steps=1)\n",
    "r1 = r[:, :r.shape[1]//2]\n",
    "r2 = r[:, r.shape[1]//2:]\n",
    "\n",
    "dist, cost, acc_cost, path = dtw(r1.T, r2.T, dist=lambda x, y: norm(x - y, ord=1))\n",
    "plt.imshow(cost.T, origin='lower', cmap='gray', interpolation='nearest')\n",
    "plt.plot(path[0], path[1], 'w')\n"
   ]
  }
 ],
 "metadata": {
  "kernelspec": {
   "display_name": "Python 2",
   "language": "python",
   "name": "python2"
  },
  "language_info": {
   "codemirror_mode": {
    "name": "ipython",
    "version": 2
   },
   "file_extension": ".py",
   "mimetype": "text/x-python",
   "name": "python",
   "nbconvert_exporter": "python",
   "pygments_lexer": "ipython2",
   "version": "2.7.6"
  }
 },
 "nbformat": 4,
 "nbformat_minor": 0
}
